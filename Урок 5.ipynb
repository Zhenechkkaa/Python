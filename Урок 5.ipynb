{
 "cells": [
  {
   "cell_type": "code",
   "execution_count": 1,
   "id": "ce17102d",
   "metadata": {},
   "outputs": [],
   "source": [
    "import pandas as pd\n",
    "import scipy.stats as stats\n",
    "import matplotlib.pyplot as plt\n",
    "from matplotlib.ticker import PercentFormatter\n",
    "import seaborn as sns\n",
    "import numpy as np\n",
    "from scipy.optimize import Bounds\n",
    "from scipy.optimize import minimize\n",
    "from matplotlib.pyplot import figure\n",
    "from scipy.optimize import curve_fit"
   ]
  },
  {
   "cell_type": "markdown",
   "id": "6c5094e4",
   "metadata": {},
   "source": [
    "# Задание 2"
   ]
  },
  {
   "cell_type": "markdown",
   "id": "59e2cb6a",
   "metadata": {},
   "source": [
    "#### Цех может производить стулья и столы. На производство стула идет 5 единиц материала, на производство стола - 20 единиц (футов красного дерева). Стул требует 10 человеко-часов, стол - 15. Имеется 400 единиц материала и 450 человеко-часов. Прибыль при производстве стула - 45 долларов США, при производстве стола - 80 долларов США. Сколько надо сделать стульев и столов, чтобы получить максимальную прибыль?"
   ]
  },
  {
   "cell_type": "code",
   "execution_count": 2,
   "id": "bdbb079c",
   "metadata": {},
   "outputs": [],
   "source": [
    "# Задаем целевую функцию:\n",
    "# Цех производит два вида продукции:\n",
    "# x0 — стулья, от 45 дол.\n",
    "# x1 — столы, от 80 дол.\n",
    "\n",
    "def value(x):\n",
    "    return - 45*x[0] - 80*x[1]"
   ]
  },
  {
   "cell_type": "code",
   "execution_count": 3,
   "id": "b23d1163",
   "metadata": {},
   "outputs": [],
   "source": [
    "# Задаем систему ограничений:\n",
    "# Дружный рабочий коллектив включает в себя четырех джунов, двух мидлов и одного сеньора. \n",
    "# Фонд их рабочего времени на месяц:\n",
    "# столы: 4 * 150 = 600 чел * час,\n",
    "# мидлы: 2 * 150 = 300 чел * час,\n",
    "# сеньор: 150 чел * час.\n",
    "\n",
    "#Пусть на разработку и деплой одного сайта типа (x0, x1, x2) первый попавшийся джуниор \n",
    "# должен потратить (10, 20, 30) часов, мидл — (7, 15, 20), сеньор — (5, 10, 15) часов рабочего времен.\n",
    "\n",
    "neq_cons = {'type': 'ineq',\n",
    "             'fun': lambda x: np.array ([400 - 5 * x [0] - 20 * x [1],\n",
    "                                         450 - 10  * x [0] - 15 * x [1]])}"
   ]
  },
  {
   "cell_type": "code",
   "execution_count": 4,
   "id": "ff7f2896",
   "metadata": {},
   "outputs": [],
   "source": [
    "# Формальное ограничение — выпуск продукции должен быть только положительным:\n",
    "from scipy.optimize import Bounds\n",
    "bnds = Bounds([0, 0], [np.inf, np.inf])"
   ]
  },
  {
   "cell_type": "code",
   "execution_count": 5,
   "id": "583a7470",
   "metadata": {},
   "outputs": [
    {
     "name": "stdout",
     "output_type": "stream",
     "text": [
      "[24. 14.]\n"
     ]
    }
   ],
   "source": [
    "# Максимизируем функцию ежемесячной прибыли\n",
    "x0 = np.array([20, 15])\n",
    "res = minimize(value, x0, method='SLSQP', constraints=neq_cons, bounds=bnds)\n",
    "print(res.x)"
   ]
  },
  {
   "cell_type": "code",
   "execution_count": 6,
   "id": "4e2deba3",
   "metadata": {},
   "outputs": [
    {
     "name": "stdout",
     "output_type": "stream",
     "text": [
      "материалы: 400 футов красного дерева\n",
      "часы: 450 чел.*час\n",
      "максимизированная прибыль составит: 2200 тыс.руб./месяц\n"
     ]
    }
   ],
   "source": [
    "print('материалы:', 24 * 5 + 14 * 20, 'футов красного дерева')\n",
    "print('часы:', 24 * 10 + 14 * 15 , 'чел.*час')\n",
    "print('максимизированная прибыль составит:', -1*value([24, 14]),'тыс.руб./месяц')"
   ]
  },
  {
   "cell_type": "markdown",
   "id": "dd8bf374",
   "metadata": {},
   "source": [
    "#### Вывод: для получения максимальной прибыли оптимальный выпуск будет составлять 24 стула и 14 столов. При этом используется весь материал и все трудовые ресурсы, а прибыль будет равна 2200 долларам."
   ]
  },
  {
   "cell_type": "markdown",
   "id": "b7ff7ed8",
   "metadata": {},
   "source": [
    "# Задание 3"
   ]
  },
  {
   "cell_type": "markdown",
   "id": "03bb079c",
   "metadata": {},
   "source": [
    "#### Средний накопленный доход на пользователя с сайта (cumulative ARPU) составил: day1 -  0.4дол, day3 -  0.6 дол., day7  - 0.8 дол., day14 - 1.10дол. , day21 - 1.30 дол., day30 - 1.40 дол. Подберите аппроксимирующую кривую и сделайте прогноз, сколько в среднем принесет денег пользователь на 90й день. Обоснуйте выбор одной из аппроксимирующей кривой вида: y = a*b^x или y = a*ln(x) + b. "
   ]
  },
  {
   "cell_type": "code",
   "execution_count": 7,
   "id": "a716708f",
   "metadata": {},
   "outputs": [
    {
     "data": {
      "text/html": [
       "<div>\n",
       "<style scoped>\n",
       "    .dataframe tbody tr th:only-of-type {\n",
       "        vertical-align: middle;\n",
       "    }\n",
       "\n",
       "    .dataframe tbody tr th {\n",
       "        vertical-align: top;\n",
       "    }\n",
       "\n",
       "    .dataframe thead th {\n",
       "        text-align: right;\n",
       "    }\n",
       "</style>\n",
       "<table border=\"1\" class=\"dataframe\">\n",
       "  <thead>\n",
       "    <tr style=\"text-align: right;\">\n",
       "      <th></th>\n",
       "      <th>day</th>\n",
       "      <th>ARPU</th>\n",
       "    </tr>\n",
       "  </thead>\n",
       "  <tbody>\n",
       "    <tr>\n",
       "      <th>0</th>\n",
       "      <td>1</td>\n",
       "      <td>0.4</td>\n",
       "    </tr>\n",
       "    <tr>\n",
       "      <th>1</th>\n",
       "      <td>3</td>\n",
       "      <td>0.6</td>\n",
       "    </tr>\n",
       "    <tr>\n",
       "      <th>2</th>\n",
       "      <td>7</td>\n",
       "      <td>0.8</td>\n",
       "    </tr>\n",
       "    <tr>\n",
       "      <th>3</th>\n",
       "      <td>14</td>\n",
       "      <td>1.1</td>\n",
       "    </tr>\n",
       "    <tr>\n",
       "      <th>4</th>\n",
       "      <td>21</td>\n",
       "      <td>1.3</td>\n",
       "    </tr>\n",
       "    <tr>\n",
       "      <th>5</th>\n",
       "      <td>30</td>\n",
       "      <td>1.4</td>\n",
       "    </tr>\n",
       "  </tbody>\n",
       "</table>\n",
       "</div>"
      ],
      "text/plain": [
       "   day  ARPU\n",
       "0    1   0.4\n",
       "1    3   0.6\n",
       "2    7   0.8\n",
       "3   14   1.1\n",
       "4   21   1.3\n",
       "5   30   1.4"
      ]
     },
     "execution_count": 7,
     "metadata": {},
     "output_type": "execute_result"
    }
   ],
   "source": [
    "df = pd.DataFrame({'day': [1,3,7,14,21,30],\n",
    "                   'ARPU': [0.4,0.6,0.8,1.10,1.30,1.40]})\n",
    "df.head(6)"
   ]
  },
  {
   "cell_type": "code",
   "execution_count": 8,
   "id": "9c7634ea",
   "metadata": {},
   "outputs": [
    {
     "data": {
      "text/plain": [
       "<matplotlib.collections.PathCollection at 0x7fd59017adc0>"
      ]
     },
     "execution_count": 8,
     "metadata": {},
     "output_type": "execute_result"
    },
    {
     "data": {
      "image/png": "[encoded data removed]",
      "text/plain": [
       "<Figure size 640x480 with 1 Axes>"
      ]
     },
     "metadata": {},
     "output_type": "display_data"
    }
   ],
   "source": [
    "plt.figure(num=None, figsize=(8, 6), dpi=80, facecolor='w', edgecolor='k')\n",
    "plt.scatter(df['day'], df['ARPU'], label=\"Original Data\" )"
   ]
  },
  {
   "cell_type": "code",
   "execution_count": 9,
   "id": "a58cce5b",
   "metadata": {},
   "outputs": [],
   "source": [
    "# задаем аппроксимирующую логарифмияескую функцию\n",
    "def log_func( x, a, b ):\n",
    "    return a * np.log(x) + b"
   ]
  },
  {
   "cell_type": "code",
   "execution_count": 10,
   "id": "debf295e",
   "metadata": {},
   "outputs": [],
   "source": [
    "# задаем аппроксимирующую степенную функцию\n",
    "def sqrt_func( x, a, b):\n",
    "    return a * b ** x"
   ]
  },
  {
   "cell_type": "code",
   "execution_count": 11,
   "id": "f7cbb275",
   "metadata": {},
   "outputs": [],
   "source": [
    "log_popt, log_pcov = curve_fit(log_func, df['day'], df['ARPU'])"
   ]
  },
  {
   "cell_type": "code",
   "execution_count": 12,
   "id": "2e0394c3",
   "metadata": {},
   "outputs": [],
   "source": [
    "sqrt_popt, sqrt_pcov = curve_fit(sqrt_func, df['day'], df['ARPU'])"
   ]
  },
  {
   "cell_type": "code",
   "execution_count": 13,
   "id": "f1f3c988",
   "metadata": {},
   "outputs": [],
   "source": [
    "projection_endpoint = 90"
   ]
  },
  {
   "cell_type": "code",
   "execution_count": 14,
   "id": "e9546ae4",
   "metadata": {},
   "outputs": [
    {
     "name": "stderr",
     "output_type": "stream",
     "text": [
      "/var/folders/h9/dr0bspp11z53mwzrlvr3q19w0000gn/T/ipykernel_31107/3433126870.py:3: RuntimeWarning: divide by zero encountered in log\n",
      "  return a * np.log(x) + b\n"
     ]
    }
   ],
   "source": [
    "log_y_projected = log_func( np.arange( projection_endpoint ), *log_popt )\n",
    "sqrt_y_projected = sqrt_func( np.arange( projection_endpoint ), *sqrt_popt )"
   ]
  },
  {
   "cell_type": "code",
   "execution_count": 15,
   "id": "36675572",
   "metadata": {},
   "outputs": [
    {
     "data": {
      "image/png": "[encoded data removed]",
      "text/plain": [
       "<Figure size 640x480 with 1 Axes>"
      ]
     },
     "metadata": {},
     "output_type": "display_data"
    }
   ],
   "source": [
    "plt.figure(num=None, figsize=(8, 6), dpi=80, facecolor='w', edgecolor='k')\n",
    "plt.scatter(df['day'], df['ARPU'], label=\"Original Data\" )\n",
    "plt.plot( log_y_projected, label=\"Log Function Projections\" )\n",
    "plt.plot( sqrt_y_projected, label=\"Sqrt Function Projections\" )\n",
    "plt.legend()\n",
    "plt.show()"
   ]
  },
  {
   "cell_type": "code",
   "execution_count": 16,
   "id": "8904aab8",
   "metadata": {},
   "outputs": [
    {
     "name": "stdout",
     "output_type": "stream",
     "text": [
      "Прогноз кол-ва денег на 90й день по log модели 2.0\n",
      "Прогноз кол-ва денег на 90й день по sqrt модели 10.0\n"
     ]
    }
   ],
   "source": [
    "print('Прогноз кол-ва денег на 90й день по log модели', round(log_y_projected[89],0))\n",
    "print('Прогноз кол-ва денег на 90й день по sqrt модели', round(sqrt_y_projected[89],0))"
   ]
  },
  {
   "cell_type": "code",
   "execution_count": 17,
   "id": "c523568c",
   "metadata": {},
   "outputs": [
    {
     "data": {
      "text/plain": [
       "[0.3182915337381341,\n",
       " 0.6525362974984633,\n",
       " 0.9103204822385534,\n",
       " 1.121205448670408,\n",
       " 1.2445652459988827,\n",
       " 1.3530809922778193]"
      ]
     },
     "execution_count": 17,
     "metadata": {},
     "output_type": "execute_result"
    }
   ],
   "source": [
    "y_log_pred = [log_y_projected[ i ] for i in list(df['day'])]\n",
    "y_log_pred"
   ]
  },
  {
   "cell_type": "code",
   "execution_count": 18,
   "id": "b242ea26",
   "metadata": {},
   "outputs": [
    {
     "data": {
      "text/plain": [
       "[0.6193285013669545,\n",
       " 0.659088716032839,\n",
       " 0.7464307044090908,\n",
       " 0.9280456295448732,\n",
       " 1.153849493904676,\n",
       " 1.5266933282102846]"
      ]
     },
     "execution_count": 18,
     "metadata": {},
     "output_type": "execute_result"
    }
   ],
   "source": [
    "y_sqrt_pred = [sqrt_y_projected[ i ] for i in list(df['day'])]\n",
    "y_sqrt_pred"
   ]
  },
  {
   "cell_type": "markdown",
   "id": "563369f5",
   "metadata": {},
   "source": [
    "#### Вывод: логарифмическая функция аппроксимирует исследуемую зависимость с меньшей ошибкой, поэтому целесообразнее использовать для прогноза данную функцию."
   ]
  },
  {
   "cell_type": "code",
   "execution_count": null,
   "id": "2f29695e",
   "metadata": {},
   "outputs": [],
   "source": []
  }
 ],
 "metadata": {
  "kernelspec": {
   "display_name": "Python 3 (ipykernel)",
   "language": "python",
   "name": "python3"
  },
  "language_info": {
   "codemirror_mode": {
    "name": "ipython",
    "version": 3
   },
   "file_extension": ".py",
   "mimetype": "text/x-python",
   "name": "python",
   "nbconvert_exporter": "python",
   "pygments_lexer": "ipython3",
   "version": "3.9.13"
  }
 },
 "nbformat": 4,
 "nbformat_minor": 5
}
